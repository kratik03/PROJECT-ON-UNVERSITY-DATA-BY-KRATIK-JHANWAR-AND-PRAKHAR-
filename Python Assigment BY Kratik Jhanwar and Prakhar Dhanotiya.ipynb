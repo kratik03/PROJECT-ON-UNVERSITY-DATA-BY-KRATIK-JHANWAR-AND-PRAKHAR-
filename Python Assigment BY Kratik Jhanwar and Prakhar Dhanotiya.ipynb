{
 "cells": [
  {
   "cell_type": "code",
   "execution_count": 2,
   "id": "89caa862",
   "metadata": {},
   "outputs": [
    {
     "name": "stdout",
     "output_type": "stream",
     "text": [
      "Python Assigment BY Kratik Jhanwar and Prakhar Dhanotiya on Unversity Result\n"
     ]
    }
   ],
   "source": [
    "print(\"Python Assigment BY Kratik Jhanwar and Prakhar Dhanotiya on Unversity Result\")"
   ]
  },
  {
   "cell_type": "code",
   "execution_count": 6,
   "id": "619e7aaf",
   "metadata": {},
   "outputs": [],
   "source": [
    "import pandas as pd\n",
    "import numpy as np\n",
    "import matplotlib.pyplot as plt\n",
    "import seaborn as sls\n",
    "Final=pd.read_csv(\"FINAL.csv\")\n",
    "Mid_term=pd.read_csv(\"mid term.csv\")\n",
    "Final= Final.fillna(0)"
   ]
  },
  {
   "cell_type": "code",
   "execution_count": 7,
   "id": "43361dcd",
   "metadata": {},
   "outputs": [
    {
     "name": "stdout",
     "output_type": "stream",
     "text": [
      "   Roll_No.             Name  Sessional(75)  Terminal(75)  Total(150)  \\\n",
      "0         1    Ashir Mehfooz           68.0          55.0       123.0   \n",
      "1         2      Atif Raftad           41.5          45.0        86.5   \n",
      "2         3       Saiqa Aziz           60.5          58.0       118.5   \n",
      "3         4     Ozair Minhas           22.5          44.0        66.5   \n",
      "4         5  Naveera Subhani           46.5          35.0        81.5   \n",
      "\n",
      "                          Marks in Words      % Letter Grade  Grade_point  \\\n",
      "0        One Hundred & Twenty Three Only  82.00            A          4.0   \n",
      "1              Eighty Six Pont Five Zero  57.67            C          2.5   \n",
      "2  One Hundred & Eighteen Pont Five Zero  79.00           B+          3.9   \n",
      "3               Sixty Six Pont Five Zero  44.33            F          0.0   \n",
      "4              Eighty One Pont Five Zero  54.33            C          2.2   \n",
      "\n",
      "  Percentile  \n",
      "0      93.52  \n",
      "1      56.48  \n",
      "2      89.81  \n",
      "3      32.41  \n",
      "4      50.00  \n",
      "   Roll_No.             Name  Quiz 01  Quiz 02  Avg_marks_of_Quiz(15)  \\\n",
      "0         1    Ashir Mehfooz     14.0       14                   14.0   \n",
      "1         2      Atif Raftad      4.0       10                    7.0   \n",
      "2         3       Saiqa Aziz     15.0       11                   13.0   \n",
      "3         4     Ozair Minhas      6.0        5                    5.5   \n",
      "4         5  Naveera Subhani      5.0       11                    8.0   \n",
      "\n",
      "   Assig. 01  Assig.02  Avg_marks_of_Assig  Mid_term(45)   Sessional(75)  \n",
      "0         13        13                13.0            41            68.0  \n",
      "1          4         5                 4.5            30            41.5  \n",
      "2         14        13                13.5            34            60.5  \n",
      "3          4         6                 5.0            12            22.5  \n",
      "4          4         5                 4.5            34            46.5  \n"
     ]
    }
   ],
   "source": [
    "roll=[x for x in Final.iloc[:,0]]\n",
    "fp=[x for x in Final.iloc[:,4]] \n",
    "qp=[x for x in Mid_term.iloc[:,4]] \n",
    "ap=[x for x in Mid_term.iloc[:,-3]] \n",
    "mp=[x for x in Mid_term.iloc[:,-2]] \n",
    "sp=[x for x in Mid_term.iloc[:,-1]] \n",
    "tp=[x for x in Final.iloc[:,3]] \n",
    "def percentile_rank(dataset, value):\n",
    "    less_than_value = sum(1 for x in dataset if x < value)\n",
    "    total_values = len(dataset)\n",
    "    percentile = (less_than_value / total_values) * 100\n",
    "    return percentile\n",
    "list_percentile=[]\n",
    "for value in fp:\n",
    "    \n",
    "    percentile = format(percentile_rank(fp, value),'.2f')\n",
    "    list_percentile.append(percentile)\n",
    "Final['Percentile']=list_percentile    \n",
    "print(Final.head(5))\n",
    "\n",
    "print(Mid_term.head(5))"
   ]
  },
  {
   "cell_type": "code",
   "execution_count": 8,
   "id": "8f5f4c03",
   "metadata": {},
   "outputs": [
    {
     "name": "stdout",
     "output_type": "stream",
     "text": [
      "Enter Roll Number of Student whose mid term Detail you want to get3\n",
      "   Roll_No.        Name  Quiz 01  Quiz 02  Avg_marks_of_Quiz(15)  Assig. 01  \\\n",
      "2         3  Saiqa Aziz     15.0       11                   13.0         14   \n",
      "\n",
      "   Assig.02  Avg_marks_of_Assig  Mid_term(45)   Sessional(75)  \n",
      "2        13                13.5            34            60.5  \n"
     ]
    }
   ],
   "source": [
    "F=int(input('Enter Roll Number of Student whose mid term Detail you want to get',))\n",
    "for i in Mid_term.iloc[:,0]:\n",
    "      if i==F:\n",
    "            \n",
    "            E=Mid_term[Mid_term['Roll_No.'] == F]\n",
    "       \n",
    "    \n",
    "print(E)"
   ]
  },
  {
   "cell_type": "code",
   "execution_count": 12,
   "id": "10786e7d",
   "metadata": {},
   "outputs": [
    {
     "name": "stdout",
     "output_type": "stream",
     "text": [
      "Enter Roll Number of Student whose Final Results you want to get5\n",
      "   Roll_No.             Name  Sessional(75)  Terminal(75)  Total(150)  \\\n",
      "4         5  Naveera Subhani           46.5          35.0        81.5   \n",
      "\n",
      "              Marks in Words      % Letter Grade  Grade_point Percentile  \n",
      "4  Eighty One Pont Five Zero  54.33            C          2.2      50.00  \n"
     ]
    }
   ],
   "source": [
    "AA=int(input('Enter Roll Number of Student whose Final Results you want to get',))\n",
    "for i in Final.iloc[:,0]:\n",
    "      if i==AA:\n",
    "            BB=Final[Final['Roll_No.'] == AA]\n",
    "       \n",
    "print(BB)"
   ]
  },
  {
   "cell_type": "code",
   "execution_count": 13,
   "id": "bf2f6f3f",
   "metadata": {},
   "outputs": [
    {
     "name": "stdout",
     "output_type": "stream",
     "text": [
      "Naveera Subhani Marks Compostion\n"
     ]
    },
    {
     "data": {
      "image/png": "[encoded data removed]",
      "text/plain": [
       "<Figure size 432x288 with 1 Axes>"
      ]
     },
     "metadata": {},
     "output_type": "display_data"
    }
   ],
   "source": [
    "print(BB.iloc[0,1],\"Marks Compostion\")\n",
    "y=AA+1\n",
    "Pie=[ap[y],qp[y],mp[y],tp[y]]\n",
    "plt.pie(Pie,labels=[\"Assig\",\"Quiz\",\"Mid-term\",'Terminal'],autopct='%1.1f%%')\n",
    "plt.axis('equal')\n",
    "plt.show()"
   ]
  },
  {
   "cell_type": "code",
   "execution_count": 14,
   "id": "3305ff37",
   "metadata": {},
   "outputs": [
    {
     "name": "stdout",
     "output_type": "stream",
     "text": [
      "Naveera Subhani\n"
     ]
    },
    {
     "data": {
      "image/png": "[encoded data removed]",
      "text/plain": [
       "<Figure size 432x288 with 1 Axes>"
      ]
     },
     "metadata": {
      "needs_background": "light"
     },
     "output_type": "display_data"
    },
    {
     "name": "stdout",
     "output_type": "stream",
     "text": [
      "Remark Keep it up\n"
     ]
    }
   ],
   "source": [
    "print(BB.iloc[0,1])\n",
    "LIST=[sp[y],tp[y]]\n",
    "LIST1=[\"Sessional\",\"Terminal\"]\n",
    "\n",
    "plt.bar(LIST1,LIST)\n",
    "\n",
    "\n",
    "for i, value in enumerate(LIST):\n",
    "    plt.text(i, value, str(value), ha='center', va='bottom')\n",
    "plt.xlabel('NAME OF EXAM')\n",
    "plt.ylabel('MARK OF STUDENT')\n",
    "plt.title('CAMPARSION BETWEEN SESSIONAL AND TERMIAL')\n",
    "plt.show()\n",
    "if sp[y]>tp[y]:\n",
    "    print(\"Remark\",'Need Improvement')\n",
    "else:\n",
    "    print('Remark', \"Keep it up\")"
   ]
  },
  {
   "cell_type": "code",
   "execution_count": 15,
   "id": "b2aeac4e",
   "metadata": {},
   "outputs": [
    {
     "name": "stderr",
     "output_type": "stream",
     "text": [
      "D:\\ana\\lib\\site-packages\\seaborn\\_decorators.py:36: FutureWarning: Pass the following variables as keyword args: x, y. From version 0.12, the only valid positional argument will be `data`, and passing other arguments without an explicit keyword will result in an error or misinterpretation.\n",
      "  warnings.warn(\n",
      "D:\\ana\\lib\\site-packages\\seaborn\\_core.py:1485: FutureWarning: unique with argument that is not not a Series, Index, ExtensionArray, or np.ndarray is deprecated and will raise in a future version.\n",
      "  order = pd.unique(vector)\n"
     ]
    },
    {
     "data": {
      "image/png": "[encoded data removed]",
      "text/plain": [
       "<Figure size 432x288 with 1 Axes>"
      ]
     },
     "metadata": {
      "needs_background": "light"
     },
     "output_type": "display_data"
    }
   ],
   "source": [
    "i=0\n",
    "A=0\n",
    "B=0\n",
    "C=0\n",
    "F=0\n",
    "D=0\n",
    "for i in Final.iloc[:,-3]:\n",
    "    if i==\"A\":\n",
    "        A=A+1\n",
    "    elif i==\"B+\":\n",
    "        B=B+1\n",
    "    elif i==\"C\":\n",
    "        C=C+1\n",
    "    elif i==\"F\":\n",
    "        F=F+1\n",
    "    elif i==\"B\":\n",
    "        D=D+1\n",
    "X = [\"A\",\"B+\",\"B\",\"C\",\"F\"]\n",
    "Y=[A,B,D,C,F]\n",
    "plt.bar(X,Y)\n",
    "sls.barplot(X,Y)\n",
    "\n",
    "for i, value in enumerate(Y):\n",
    "    plt.text(i, value, str(value), ha='center', va='bottom')\n",
    "plt.xlabel('Grade')\n",
    "plt.ylabel('Number of Students')\n",
    "plt.title('Grade Counts')\n",
    "plt.show()\n"
   ]
  },
  {
   "cell_type": "code",
   "execution_count": 16,
   "id": "ea23a5dd",
   "metadata": {},
   "outputs": [
    {
     "name": "stdout",
     "output_type": "stream",
     "text": [
      "132.5\n",
      "[132.5, 132.0, 129.5]\n",
      "Roll Number of First_Ranker  146\n",
      "Name of First_Ranker Hamza Abbas\n",
      "Roll Number of Second_Ranker 184\n",
      "Name of Second_Ranker Eylem\n",
      "Roll Number of Third_Ranker 62\n",
      "Name of Third_Ranker Zehra\n",
      "[75.0, 75.0, 74.0]\n",
      "Roll Number of First_Ranker  109\n",
      "Name of First_Ranker Yağız\n",
      "Roll Number of Second_Ranker 109\n",
      "Name of Second_Ranker Yağız\n",
      "Roll Number of Third_Ranker 64\n",
      "Name of Third_Ranker Aysel\n",
      "[72.0, 70.0, 69.0]\n",
      "Roll Number of First_Ranker  202\n",
      "Name of First_Ranker İlayda\n",
      "Roll Number of Second_Ranker 203\n",
      "Name of Second_Ranker Serhat\n",
      "Roll Number of Third_Ranker 90\n",
      "Name of Third_Ranker Şule\n",
      "[45, 45, 45, 45, 45, 45, 45]\n",
      "Roll Number of First_Ranker  21\n",
      "Name of First_Ranker Mehfooz Ahmed\n",
      "Roll Number of Second_Ranker 21\n",
      "Name of Second_Ranker Mehfooz Ahmed\n",
      "Roll Number of Third_Ranker 21\n",
      "Name of Third_Ranker Mehfooz Ahmed\n",
      "26.573351289531747\n",
      "21.296227354960873\n",
      "13.192475283533904\n"
     ]
    }
   ],
   "source": [
    "import heapq\n",
    "fp=[x for x in Final.iloc[:,4]] \n",
    "qp=[x for x in Mid_term.iloc[:,4]] \n",
    "ap=[x for x in Mid_term.iloc[:,-3]] \n",
    "mp=[x for x in Mid_term.iloc[:,-2]] \n",
    "sp=[x for x in Mid_term.iloc[:,-1]] \n",
    "tp=[x for x in Final.iloc[:,3]] \n",
    "print(max(fp))\n",
    "top_five_preformer=(max(fp))\n",
    "Top_three_Preformer=[w for w in heapq.nlargest(3, fp)]\n",
    "print(Top_three_Preformer)\n",
    "First_Rank = Final[Final['Total(150)'] == Top_three_Preformer[0]]\n",
    "Second_Rank= Final[Final['Total(150)'] == Top_three_Preformer[1]]\n",
    "Third_Rank = Final[Final['Total(150)'] == Top_three_Preformer[2]]\n",
    "print('Roll Number of First_Ranker ',First_Rank.iloc[0,0])\n",
    "print('Name of First_Ranker',First_Rank.iloc[0,1])\n",
    "print('Roll Number of Second_Ranker',Second_Rank.iloc[0,0])\n",
    "print('Name of Second_Ranker',Second_Rank.iloc[0,1])\n",
    "print('Roll Number of Third_Ranker',Third_Rank.iloc[0,0])\n",
    "print('Name of Third_Ranker',Third_Rank.iloc[0,1])\n",
    "Top_three_tPreformer=[w for w in heapq.nlargest(3, tp)]\n",
    "print(Top_three_tPreformer)\n",
    "First_tRank = Final[Final['Terminal(75)'] == Top_three_tPreformer[0]]\n",
    "Second_tRank= Final[Final['Terminal(75)'] == Top_three_tPreformer[1] ]\n",
    "Third_tRank = Final[Final['Terminal(75)'] == Top_three_tPreformer[2]]\n",
    "print('Roll Number of First_Ranker ',First_tRank.iloc[0,0])\n",
    "print('Name of First_Ranker',First_tRank.iloc[0,1])\n",
    "print('Roll Number of Second_Ranker',Second_tRank.iloc[0,0])\n",
    "print('Name of Second_Ranker',Second_tRank.iloc[0,1])\n",
    "print('Roll Number of Third_Ranker',Third_tRank.iloc[0,0])\n",
    "print('Name of Third_Ranker',Third_tRank.iloc[0,1])\n",
    "Top_three_sPreformer=[w for w in heapq.nlargest(3, sp)]\n",
    "print(Top_three_sPreformer)\n",
    "First_sRank = Final[Final['Sessional(75)'] == Top_three_sPreformer[0]]\n",
    "Second_sRank= Final[Final['Sessional(75)'] == Top_three_sPreformer[1] ]\n",
    "Third_sRank = Final[Final['Sessional(75)'] == Top_three_sPreformer[2]]#Sessional(75)\n",
    "print('Roll Number of First_Ranker ',First_sRank.iloc[0,0])\n",
    "print('Name of First_Ranker',First_sRank.iloc[0,1])\n",
    "print('Roll Number of Second_Ranker',Second_sRank.iloc[0,0])\n",
    "print('Name of Second_Ranker',Second_sRank.iloc[0,1])\n",
    "print('Roll Number of Third_Ranker',Third_sRank.iloc[0,0])\n",
    "print('Name of Third_Ranker',Third_sRank.iloc[0,1])\n",
    "Top_three_mPreformer=[w for w in heapq.nlargest(7, mp)]\n",
    "print(Top_three_mPreformer)\n",
    "First_mRank = Mid_term[Mid_term['Mid_term(45)'] == Top_three_mPreformer[0]]\n",
    "Second_mRank= Mid_term[Mid_term['Mid_term(45)'] == Top_three_mPreformer[1]]\n",
    "Third_mRank = Mid_term[Mid_term['Mid_term(45)'] == Top_three_mPreformer[2]]\n",
    "print('Roll Number of First_Ranker ',First_mRank.iloc[0,0])\n",
    "print('Name of First_Ranker',First_mRank.iloc[0,1])\n",
    "print('Roll Number of Second_Ranker',Second_mRank.iloc[0,0])\n",
    "print('Name of Second_Ranker',Second_mRank.iloc[0,1])\n",
    "print('Roll Number of Third_Ranker',Third_mRank.iloc[0,0])\n",
    "print('Name of Third_Ranker',Third_mRank.iloc[0,1])\n",
    "Avg_t_mean=np.mean(Final.iloc[:,4])\n",
    "Avg_T_mean=np.mean(Final.iloc[:,3])\n",
    "Avg_S_mean=np.mean(Final.iloc[:,2])\n",
    "f_median=np.median(Final.iloc[:,4])\n",
    "T_median=np.median(Final.iloc[:,3])\n",
    "S_median=np.median(Final.iloc[:,2])\n",
    "std_dev_f = np.std(Final.iloc[:,4])\n",
    "print(std_dev_f)\n",
    "std_dev_t = np.std(Final.iloc[:,3])\n",
    "print(std_dev_t)\n",
    "std_dev_s = np.std(Final.iloc[:,2])\n",
    "print(std_dev_s)"
   ]
  },
  {
   "cell_type": "code",
   "execution_count": 17,
   "id": "364306fa",
   "metadata": {},
   "outputs": [
    {
     "name": "stdout",
     "output_type": "stream",
     "text": [
      "                    Sessional           Terminal            Final\n",
      "------------------  ------------------  ------------------  ------------------\n",
      "Rank 1              İlayda              Yağız               Hamza Abbas\n",
      "Rank 2              Serhat              Eylem               Eylem\n",
      "Rank 3              Şule                Aysel               Zehra\n",
      "AVG Marks           43.86               37.34               81.20\n",
      "Median Marks        45.0                37.5                81.0\n",
      "standard deviation  13.192475283533904  21.296227354960873  26.573351289531747\n"
     ]
    }
   ],
   "source": [
    "from tabulate import tabulate\n",
    "data = [\n",
    "    \n",
    "    [\"Rank 1\",First_sRank.iloc[0,1],First_tRank.iloc[0,1],First_Rank.iloc[0,1]],\n",
    "    [\"Rank 2\",Second_sRank.iloc[0,1],Second_tRank.iloc[1,1],Second_Rank.iloc[0,1]],\n",
    "    ['Rank 3',Third_sRank.iloc[0,1],Third_tRank.iloc[0,1],Third_Rank.iloc[0,1]],\n",
    "    [\"AVG Marks\",format(Avg_S_mean,'.2f'),format(Avg_T_mean,'.2f'),format(Avg_t_mean,'.2f')],\n",
    "    [\"Median Marks\",S_median,T_median,f_median],\n",
    "    ['standard deviation',std_dev_s,std_dev_t,std_dev_f]\n",
    "    \n",
    "]\n",
    "\n",
    "\n",
    "table = tabulate(data,headers=[\"\",\"Sessional\",\"Terminal\", \"Final\"])\n",
    "\n",
    "print(table)"
   ]
  },
  {
   "cell_type": "code",
   "execution_count": 9,
   "id": "2d360afe",
   "metadata": {},
   "outputs": [
    {
     "name": "stdout",
     "output_type": "stream",
     "text": [
      "F-Statistic: 22.793371662998663 P-value: 2.477176882662021e-06\n",
      "Reject null hypothesis: There is a significant difference between marks of Mid term and  End sem means.\n"
     ]
    }
   ],
   "source": [
    "import scipy.stats as stats\n",
    "MId_term_scaled_score=[format(x*75/45,\".2f\") for x in mp]\n",
    "\n",
    "\n",
    "group1 = MId_term_scaled_score\n",
    "group2 = tp\n",
    "\n",
    "\n",
    "\n",
    "f_statistic, p_value = stats.f_oneway(group1, group2)\n",
    "\n",
    "print(\"F-Statistic:\", f_statistic, end=' ')\n",
    "print(\"P-value:\", p_value)\n",
    "\n",
    "if p_value < 0.05:\n",
    "    print(\"Reject null hypothesis: There is a significant difference between marks of Mid term and  End sem means.\")\n",
    "else:\n",
    "    print(\"Fail to reject null hypothesis: There is no significant difference between marks of Mid term and  End sem means.\")"
   ]
  },
  {
   "cell_type": "code",
   "execution_count": null,
   "id": "36214739",
   "metadata": {},
   "outputs": [],
   "source": []
  }
 ],
 "metadata": {
  "kernelspec": {
   "display_name": "Python 3 (ipykernel)",
   "language": "python",
   "name": "python3"
  },
  "language_info": {
   "codemirror_mode": {
    "name": "ipython",
    "version": 3
   },
   "file_extension": ".py",
   "mimetype": "text/x-python",
   "name": "python",
   "nbconvert_exporter": "python",
   "pygments_lexer": "ipython3",
   "version": "3.9.12"
  }
 },
 "nbformat": 4,
 "nbformat_minor": 5
}
